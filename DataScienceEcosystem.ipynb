{
 "cells": [
  {
   "cell_type": "markdown",
   "id": "25a64d23-647a-4c55-90e7-ebcdb9951a29",
   "metadata": {
    "editable": true,
    "panel-layout": {
     "height": 60.5938,
     "visible": true,
     "width": 100
    },
    "slideshow": {
     "slide_type": ""
    },
    "tags": []
   },
   "source": [
    "# Data Science Tools and Ecosystem"
   ]
  },
  {
   "cell_type": "markdown",
   "id": "cd0f4b9c-1bd8-44e7-aba7-31015c6de329",
   "metadata": {
    "panel-layout": {
     "height": 51.1406,
     "visible": true,
     "width": 100
    }
   },
   "source": [
    "In this notebook, Data Science Tools and Ecosystem are summarized."
   ]
  },
  {
   "cell_type": "markdown",
   "id": "16126c98-468c-4447-81ce-895dea56cfbb",
   "metadata": {
    "panel-layout": {
     "height": 200.265625,
     "visible": true,
     "width": 100
    }
   },
   "source": [
    "**Objectives:**\n",
    "- GitHub\n",
    "- GitLab\n",
    "- Bitbucket\n",
    "- JupyterLab\n",
    "- AzureDevOps\n",
    "- Codeberg\n",
    "- Visual Studio\n",
    "- AWS CodeCommit"
   ]
  },
  {
   "cell_type": "markdown",
   "id": "8cb7339b-a920-4f19-838c-a771321bafa8",
   "metadata": {
    "panel-layout": {
     "height": 114.562,
     "visible": true,
     "width": 100
    }
   },
   "source": [
    "Some of the popular languages that Data Scientists use are:\n",
    "1. Python\n",
    "2. R\n",
    "3. SQL"
   ]
  },
  {
   "cell_type": "markdown",
   "id": "ef2edc66-764d-4dce-a693-d8bf33fc1911",
   "metadata": {
    "panel-layout": {
     "height": 114.562,
     "visible": true,
     "width": 100
    }
   },
   "source": [
    "Some of the commonly used libraries used by Data Scientists include:\n",
    "1. TensorFlow\n",
    "2. SciPy\n",
    "3. Pandas"
   ]
  },
  {
   "cell_type": "markdown",
   "id": "7fe606cc-2a2a-40fc-b7c8-9b275735195c",
   "metadata": {
    "panel-layout": {
     "height": 114.562,
     "visible": true,
     "width": 100
    }
   },
   "source": [
    "Data Science Tools\n",
    "1. Jupyter Labs\n",
    "2. R - ggplot, dplyr, & tidyr\n",
    "3. Python - Pandas, NumPy, & Matplotlib"
   ]
  },
  {
   "cell_type": "markdown",
   "id": "5871a35c-0b53-4f73-a2c0-e57257b714e5",
   "metadata": {
    "panel-layout": {
     "height": 44.0859,
     "visible": true,
     "width": 100
    }
   },
   "source": [
    "### Below are a few examples of evaluating arithmetic expressions in Python."
   ]
  },
  {
   "cell_type": "code",
   "execution_count": 8,
   "id": "0a0ed049-97c9-4fe8-a09e-b335423a2c77",
   "metadata": {
    "panel-layout": {
     "height": 27.1406,
     "visible": true,
     "width": 100
    }
   },
   "outputs": [
    {
     "data": {
      "text/plain": [
       "17"
      ]
     },
     "execution_count": 8,
     "metadata": {},
     "output_type": "execute_result"
    }
   ],
   "source": [
    "# This a simple arithmetic expression to mutiply then add integers.\n",
    "(3*4)+5"
   ]
  },
  {
   "cell_type": "code",
   "execution_count": 9,
   "id": "93b884a4-9865-4f90-be10-84ee89d922e2",
   "metadata": {
    "panel-layout": {
     "height": 0,
     "visible": true,
     "width": 100
    }
   },
   "outputs": [
    {
     "name": "stdout",
     "output_type": "stream",
     "text": [
      "3.3333333333333335\n"
     ]
    }
   ],
   "source": [
    "# This will convert 200 minutes to hours by diving by 60.\n",
    "hours = 200 / 60\n",
    "print(hours) # Output: 3.3333333333333335\n"
   ]
  },
  {
   "cell_type": "markdown",
   "id": "35ac3d8f-76a8-47d1-987a-cfa7d5e07ac2",
   "metadata": {},
   "source": [
    "Author\n",
    "## Michael Whitmer"
   ]
  }
 ],
 "metadata": {
  "kernelspec": {
   "display_name": "Python [conda env:base] *",
   "language": "python",
   "name": "conda-base-py"
  },
  "language_info": {
   "codemirror_mode": {
    "name": "ipython",
    "version": 3
   },
   "file_extension": ".py",
   "mimetype": "text/x-python",
   "name": "python",
   "nbconvert_exporter": "python",
   "pygments_lexer": "ipython3",
   "version": "3.13.5"
  },
  "panel-cell-order": [
   "25a64d23-647a-4c55-90e7-ebcdb9951a29",
   "cd0f4b9c-1bd8-44e7-aba7-31015c6de329",
   "8cb7339b-a920-4f19-838c-a771321bafa8",
   "ef2edc66-764d-4dce-a693-d8bf33fc1911",
   "7fe606cc-2a2a-40fc-b7c8-9b275735195c",
   "5871a35c-0b53-4f73-a2c0-e57257b714e5",
   "0a0ed049-97c9-4fe8-a09e-b335423a2c77",
   "93b884a4-9865-4f90-be10-84ee89d922e2",
   "16126c98-468c-4447-81ce-895dea56cfbb"
  ]
 },
 "nbformat": 4,
 "nbformat_minor": 5
}
